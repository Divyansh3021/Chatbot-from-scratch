{
  "cells": [
    {
      "cell_type": "code",
      "execution_count": 2,
      "metadata": {
        "id": "TAk1OAyyYjw8"
      },
      "outputs": [],
      "source": [
        "import torch\n",
        "import torch.nn as nn\n",
        "from torch.nn import functional as F\n",
        "\n",
        "device = 'cuda' if torch.cuda.is_available() else 'cpu'\n",
        "\n",
        "block_size = 64\n",
        "batch_size = 128\n",
        "max_iters = 3000\n",
        "learning_rate = 3e-4\n",
        "eval_iters = 100\n",
        "n_embd = 384\n",
        "n_layer = 8\n",
        "n_head = 8\n",
        "dropout = 0.2"
      ]
    },
    {
      "cell_type": "code",
      "execution_count": 2,
      "metadata": {
        "colab": {
          "base_uri": "https://localhost:8080/"
        },
        "id": "rm61RhfnY0Zk",
        "outputId": "120fcc0c-7ccd-43ec-8ba5-6841e00dc07f"
      },
      "outputs": [
        {
          "name": "stdout",
          "output_type": "stream",
          "text": [
            "cuda\n"
          ]
        }
      ],
      "source": [
        "print(device)"
      ]
    },
    {
      "cell_type": "code",
      "execution_count": 6,
      "metadata": {
        "colab": {
          "base_uri": "https://localhost:8080/"
        },
        "id": "WizRJ04QY24G",
        "outputId": "66659216-79c7-4ddc-e4b6-864824846da3"
      },
      "outputs": [
        {
          "name": "stdout",
          "output_type": "stream",
          "text": [
            "76\n"
          ]
        }
      ],
      "source": [
        "chars = \"\"\n",
        "with open(\"/content/alice_adventures.txt\", \"r\", encoding=\"utf-8\") as f:\n",
        "    text = f.read()\n",
        "    chars = sorted(list(set(text)))\n",
        "\n",
        "vocab_size = len(chars)\n",
        "print(vocab_size)\n"
      ]
    },
    {
      "cell_type": "code",
      "execution_count": 7,
      "metadata": {
        "id": "45QjDvUVZCjs"
      },
      "outputs": [],
      "source": [
        "string_to_int = { ch:i for i,ch in enumerate(chars)}\n",
        "int_to_string = { i:ch for i,ch in enumerate(chars)}\n",
        "encode = lambda s: [string_to_int[c] for c in s]\n",
        "decode = lambda l: \"\".join([int_to_string[i] for i in l])\n",
        "\n",
        "data = torch.tensor(encode(text), dtype=torch.long)"
      ]
    },
    {
      "cell_type": "code",
      "execution_count": 8,
      "metadata": {
        "id": "WZXe4cLvZGVE"
      },
      "outputs": [],
      "source": [
        "n = int(0.9*len(data))\n",
        "train_data = data[:n]\n",
        "val_data = data[n:]\n",
        "\n",
        "def get_batch(split):\n",
        "    data = train_data if split == \"train\" else val_data\n",
        "    ix = torch.randint(len(data) - block_size, (batch_size,))\n",
        "    x = torch.stack([data[i:i+block_size] for i in ix])\n",
        "    y = torch.stack([data[i+1:i+block_size+1] for i in ix])\n",
        "    x,y = x.to(device), y.to(device)\n",
        "    return x,y"
      ]
    },
    {
      "cell_type": "code",
      "execution_count": 9,
      "metadata": {
        "id": "t4RN9_7JZJIE"
      },
      "outputs": [],
      "source": [
        "@torch.no_grad()\n",
        "def estimate_loss():\n",
        "    out = {}\n",
        "    model.eval()\n",
        "    for split in ['train','val']:\n",
        "        losses = torch.zeros(eval_iters)\n",
        "        for k in range(eval_iters):\n",
        "            x, y = get_batch(split)\n",
        "            logits, loss = model(x, y)\n",
        "            losses[k] = loss.item()\n",
        "        out[split] = losses.mean()\n",
        "    model.train()\n",
        "    return out"
      ]
    },
    {
      "cell_type": "code",
      "execution_count": 10,
      "metadata": {
        "id": "xe-uh3x_ZLrs"
      },
      "outputs": [],
      "source": [
        "class Head(nn.Module):\n",
        "    #one head of self-attention\n",
        "\n",
        "    def __init__(self, head_size):\n",
        "        super().__init__()\n",
        "        self.key = nn.Linear(n_embd, head_size, bias=False)\n",
        "        self.query = nn.Linear(n_embd, head_size, bias=False)\n",
        "        self.value = nn.Linear(n_embd, head_size, bias=False)\n",
        "        self.register_buffer('tril', torch.tril(torch.ones(block_size, block_size)))\n",
        "\n",
        "        self.dropout = nn.Dropout(dropout)\n",
        "\n",
        "    def forward(self,x):\n",
        "        #input of size(batch, time-step, channels)\n",
        "        #output of size (batch, time-step, head-size)\n",
        "        B,T,C = x.shape\n",
        "        k = self.key(x)\n",
        "        q = self.query(x)\n",
        "        #compute attention scores (\"affinites\")\n",
        "        wei = q @ k.transpose(-2,-1) * k.shape[-1]**-0.5\n",
        "        wei = wei.masked_fill(self.tril[:T, :T] == 0, float('-inf'))\n",
        "        wei = F.softmax(wei, dim=-1)\n",
        "        wei = self.dropout(wei)\n",
        "        #perform the weighted aggregation of the values\n",
        "        v = self.value(x)\n",
        "        out = wei @ v\n",
        "        return out\n",
        "\n",
        "class MultiHeadAttention(nn.Module):\n",
        "    # Multiple heads of self-attention in parallel\n",
        "\n",
        "    def __init__(self, num_heads, head_size):\n",
        "        super().__init__()\n",
        "        self.heads = nn.ModuleList([Head(head_size) for _ in range(num_heads)])\n",
        "        self.proj = nn.Linear(head_size * num_heads, n_embd)\n",
        "        self.dropout = nn.Dropout(dropout)\n",
        "\n",
        "    def forward(self, x):\n",
        "        out = torch.cat([h(x) for h in self.heads], dim=-1)\n",
        "        out = self.dropout(self.proj(out))\n",
        "        return out\n",
        "\n",
        "class FeedForward(nn.Module):\n",
        "    #a simple linear layer followed by a non-linearity\n",
        "\n",
        "    def __init__(self, n_embd):\n",
        "        super().__init__()\n",
        "        self.net = nn.Sequential(\n",
        "            nn.Linear(n_embd, 4 * n_embd),\n",
        "            nn.ReLU(),\n",
        "            nn.Linear(4 * n_embd, n_embd),\n",
        "            nn.Dropout(dropout),\n",
        "        )\n",
        "\n",
        "    def forward(self, x):\n",
        "        return self.net(x)\n",
        "\n",
        "class Block(nn.Module):\n",
        "    def __init__(self, n_embd, n_head):\n",
        "        super().__init__()\n",
        "        head_size = n_embd // n_head\n",
        "        self.sa = MultiHeadAttention(n_head, head_size)\n",
        "        self.ffwd = FeedForward(n_embd)\n",
        "        self.ln1 = nn.LayerNorm(n_embd)\n",
        "        self.ln2 = nn.LayerNorm(n_embd)\n",
        "\n",
        "    def forward(self, x):\n",
        "        y = self.sa(x)\n",
        "        x = self.ln1(x+y)\n",
        "        y = self.ffwd(x)\n",
        "        x = self.ln2(x+y)\n",
        "        return x\n",
        "\n",
        "\n",
        "class GPTLanguageModel(nn.Module):\n",
        "    def __init__(self,vocab_size):\n",
        "        super().__init__()\n",
        "        self.token_embedding_table = nn.Embedding(vocab_size, n_embd)\n",
        "        self.position_embedding_table = nn.Embedding(block_size, n_embd)\n",
        "        self.blocks  = nn.Sequential(*[Block(n_embd, n_head  = n_head)  for _ in range(n_layer)])\n",
        "\n",
        "        self.ln_f  = nn.LayerNorm(n_embd)  #final  layer norm\n",
        "        self.lm_head = nn.Linear(n_embd, vocab_size)\n",
        "\n",
        "        self.apply(self.init_weights)\n",
        "\n",
        "    def init_weights(self, module):\n",
        "        if isinstance(module, nn.Linear):\n",
        "            torch.nn.init.normal_(module.weight, mean = 0.0, std=0.02)\n",
        "            if module.bias is not None:\n",
        "                torch.nn.init.zeros_(module.bias)\n",
        "        elif isinstance(module, nn.Embedding):\n",
        "            torch.nn.init.normal_(module.weight, mean=0.0, std=0.02)\n",
        "\n",
        "    def forward(self, index, targets=None):\n",
        "        B, T = index.shape\n",
        "\n",
        "        tok_emb = self.token_embedding_table(index)\n",
        "        pos_emb = self.position_embedding_table(torch.arange(T, device=device))\n",
        "        x = tok_emb + pos_emb\n",
        "        x = self.blocks(x)\n",
        "        x = self.ln_f(x)\n",
        "        logits = self.lm_head(x)\n",
        "        # print(f\"from index B: {B} T: {T}\")\n",
        "\n",
        "        if targets is None:\n",
        "            loss = None\n",
        "        else:\n",
        "            B,T,C = logits.shape\n",
        "            # print(f\"B: {B} T: {T} C:{C}\")\n",
        "            logits = logits.view(B*T, C)\n",
        "            targets = targets.view(B*T)\n",
        "            loss = F.cross_entropy(logits, targets)\n",
        "\n",
        "        return logits, loss\n",
        "\n",
        "    def generate(self, index, max_new_tokens):\n",
        "        for _ in range(max_new_tokens):\n",
        "            #get the predictions\n",
        "            logits, loss = self.forward(index)\n",
        "            #focus only on the last time step\n",
        "            logits = logits[:, -1, :]\n",
        "            #apply softmax to get probabilites\n",
        "            probs = F.softmax(logits, dim=-1)\n",
        "            #sample from the distribution\n",
        "            index_next = torch.multinomial(probs, num_samples=1)\n",
        "            index = torch.cat((index, index_next), dim=1)\n",
        "\n",
        "        return index\n",
        "\n",
        "model = GPTLanguageModel(vocab_size)\n",
        "m = model.to(device)\n"
      ]
    },
    {
      "cell_type": "code",
      "execution_count": 8,
      "metadata": {
        "colab": {
          "base_uri": "https://localhost:8080/"
        },
        "id": "vVFggJnNZOg1",
        "outputId": "aca12c76-772c-4c18-f2fa-7b2eb5ed06a0"
      },
      "outputs": [
        {
          "name": "stdout",
          "output_type": "stream",
          "text": [
            "step: 0, train loss: 4.389971733093262, val loss: 4.39289665222168\n",
            "step: 100, train loss: 2.301567316055298, val loss: 2.3019683361053467\n",
            "step: 200, train loss: 1.7977758646011353, val loss: 1.8376173973083496\n",
            "step: 300, train loss: 1.5431244373321533, val loss: 1.6483210325241089\n",
            "step: 400, train loss: 1.387995958328247, val loss: 1.539805293083191\n",
            "step: 500, train loss: 1.2714757919311523, val loss: 1.4877099990844727\n",
            "step: 600, train loss: 1.1811829805374146, val loss: 1.45310378074646\n",
            "step: 700, train loss: 1.097270131111145, val loss: 1.4322727918624878\n",
            "step: 800, train loss: 1.0169620513916016, val loss: 1.4348037242889404\n",
            "step: 900, train loss: 0.9505738615989685, val loss: 1.454553484916687\n",
            "step: 1000, train loss: 0.8852418661117554, val loss: 1.4690896272659302\n",
            "step: 1100, train loss: 0.8092447519302368, val loss: 1.5129281282424927\n",
            "step: 1200, train loss: 0.7493802905082703, val loss: 1.5294424295425415\n",
            "step: 1300, train loss: 0.6842765808105469, val loss: 1.57737135887146\n",
            "step: 1400, train loss: 0.6272681951522827, val loss: 1.6328343152999878\n",
            "step: 1500, train loss: 0.5628447532653809, val loss: 1.6590619087219238\n",
            "step: 1600, train loss: 0.5125338435173035, val loss: 1.732638955116272\n",
            "step: 1700, train loss: 0.4657263159751892, val loss: 1.7746449708938599\n",
            "step: 1800, train loss: 0.4263821840286255, val loss: 1.7992281913757324\n",
            "step: 1900, train loss: 0.38500741124153137, val loss: 1.8856827020645142\n",
            "step: 2000, train loss: 0.35833466053009033, val loss: 1.9249576330184937\n",
            "step: 2100, train loss: 0.33276262879371643, val loss: 1.9790490865707397\n",
            "step: 2200, train loss: 0.30590328574180603, val loss: 2.0382323265075684\n",
            "step: 2300, train loss: 0.28493568301200867, val loss: 2.1130805015563965\n",
            "step: 2400, train loss: 0.2722746729850769, val loss: 2.141404390335083\n",
            "step: 2500, train loss: 0.26043519377708435, val loss: 2.2061710357666016\n",
            "step: 2600, train loss: 0.25151756405830383, val loss: 2.249695062637329\n",
            "step: 2700, train loss: 0.23949220776557922, val loss: 2.2827675342559814\n",
            "step: 2800, train loss: 0.2339262068271637, val loss: 2.3330740928649902\n",
            "step: 2900, train loss: 0.22795230150222778, val loss: 2.377255916595459\n",
            "0.37738168239593506\n"
          ]
        }
      ],
      "source": [
        "optimizer = torch.optim.AdamW(model.parameters(), lr=learning_rate)\n",
        "\n",
        "for iter in range(max_iters):\n",
        "    if iter % eval_iters == 0:\n",
        "        losses = estimate_loss()\n",
        "        print(f\"step: {iter}, train loss: {losses['train']}, val loss: {losses['val']}\")\n",
        "\n",
        "    xb, yb = get_batch('train')\n",
        "    # print(\"xb: \",xb,\" yb: \",yb)\n",
        "\n",
        "    logits, loss = model.forward(xb, yb)\n",
        "    optimizer.zero_grad(set_to_none = True)\n",
        "    loss.backward()\n",
        "    optimizer.step()\n",
        "print(loss.item())"
      ]
    },
    {
      "cell_type": "code",
      "execution_count": 9,
      "metadata": {
        "colab": {
          "base_uri": "https://localhost:8080/"
        },
        "id": "G1fyW_Y0lST7",
        "outputId": "4799efe1-9427-492a-9c17-d6de9d0e6dd5"
      },
      "outputs": [
        {
          "name": "stdout",
          "output_type": "stream",
          "text": [
            "Model checkpoint saved.\n"
          ]
        }
      ],
      "source": [
        "# After training loop\n",
        "import torch\n",
        "# Save the model's state dictionary along with other necessary information\n",
        "checkpoint = {\n",
        "    'state_dict': model.state_dict(),\n",
        "    'optimizer_state_dict': optimizer.state_dict(),\n",
        "    'vocab_size': vocab_size,\n",
        "    'n_embd': n_embd,\n",
        "    'block_size': block_size,\n",
        "    'n_head': n_head,\n",
        "    'n_layer': n_layer,\n",
        "    'dropout': dropout,\n",
        "    # Add other hyperparameters as needed\n",
        "}\n",
        "\n",
        "# Choose a path to save the checkpoint file\n",
        "checkpoint_path = 'model_checkpoint.pth'\n",
        "\n",
        "# Save the checkpoint\n",
        "torch.save(checkpoint, checkpoint_path)\n",
        "\n",
        "print(\"Model checkpoint saved.\")\n"
      ]
    },
    {
      "cell_type": "code",
      "execution_count": null,
      "metadata": {
        "colab": {
          "base_uri": "https://localhost:8080/",
          "height": 390
        },
        "id": "tnpVqbHfaH51",
        "outputId": "becf0144-c319-4ea4-ea4c-e474a1ac5e68"
      },
      "outputs": [],
      "source": [
        "context = torch.zeros((1, 1), dtype=torch.long, device=device)\n",
        "generated_chars = decode(m.generate(context, max_new_tokens=500)[0].tolist())\n",
        "print(generated_chars)"
      ]
    },
    {
      "cell_type": "code",
      "execution_count": 11,
      "metadata": {
        "colab": {
          "base_uri": "https://localhost:8080/"
        },
        "id": "j3CauMfzTXB0",
        "outputId": "96d0db9f-6da2-4a03-dd54-bd863325f2e1"
      },
      "outputs": [
        {
          "name": "stdout",
          "output_type": "stream",
          "text": [
            "Model checkpoint loaded.\n"
          ]
        }
      ],
      "source": [
        "# Load the checkpoint\n",
        "checkpoint = torch.load(\"model_checkpoint.pth\")\n",
        "\n",
        "# Re-create the model architecture\n",
        "loaded_model = GPTLanguageModel(checkpoint['vocab_size'])\n",
        "loaded_model.load_state_dict(checkpoint['state_dict'])\n",
        "\n",
        "# Move the loaded model to the desired device\n",
        "loaded_model.to(device)\n",
        "\n",
        "# If you want to resume training, load the optimizer state as well\n",
        "optimizer = torch.optim.AdamW(loaded_model.parameters(), lr=learning_rate)\n",
        "optimizer.load_state_dict(checkpoint['optimizer_state_dict'])\n",
        "\n",
        "print(\"Model checkpoint loaded.\")\n"
      ]
    },
    {
      "cell_type": "code",
      "execution_count": null,
      "metadata": {
        "id": "znfEEdtzTfU5"
      },
      "outputs": [],
      "source": []
    }
  ],
  "metadata": {
    "accelerator": "GPU",
    "colab": {
      "gpuType": "T4",
      "provenance": []
    },
    "kernelspec": {
      "display_name": "Python 3",
      "name": "python3"
    },
    "language_info": {
      "name": "python"
    }
  },
  "nbformat": 4,
  "nbformat_minor": 0
}
